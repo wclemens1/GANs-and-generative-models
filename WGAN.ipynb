{
 "cells": [
  {
   "cell_type": "markdown",
   "metadata": {},
   "source": [
    "# WGAN\n",
    "\n",
    "A short easy to read implementation of a Wasserstein GAN on CelebA data.\n",
    "\n",
    "Origional paper: https://arxiv.org/abs/1701.07875\n",
    "\n",
    "Many tips and improvements: https://arxiv.org/abs/1704.00028\n",
    "\n",
    "If you don't have access to a GPU you will have to manually remove all calls of the PyTorch '.cuda()' method before running.\n",
    "\n",
    "Also I would like to draw your attention to this repository, https://github.com/caogang/wgan-gp, which was a lot of help in diagnosing problems in my code."
   ]
  },
  {
   "cell_type": "code",
   "execution_count": 1,
   "metadata": {},
   "outputs": [],
   "source": [
    "#Import Libraries\n",
    "\n",
    "import numpy as np\n",
    "import pandas as pd\n",
    "from PIL import Image\n",
    "\n",
    "import torch\n",
    "import torch.nn as nn\n",
    "import torch.autograd as ag\n",
    "import torch.functional as F\n",
    "from torch import optim\n",
    "from torchvision.datasets import ImageFolder\n",
    "from torchvision import transforms\n",
    "from torchvision.utils import make_grid\n",
    "\n",
    "import matplotlib.pyplot as plt\n",
    "from tqdm import tqdm_notebook as tqdm"
   ]
  },
  {
   "cell_type": "markdown",
   "metadata": {},
   "source": [
    "Some defines, the batch size was chosen since it's the largest my GPU can handle without running out of memory."
   ]
  },
  {
   "cell_type": "markdown",
   "metadata": {},
   "source": [
    "Define the generator and discriminator networks.\n",
    "\n",
    "I based the architecture on the fastai lesson on WGAN's. They are designed to be agnostic as to size untill they are initialised so they can be tried with different datasets."
   ]
  },
  {
   "cell_type": "code",
   "execution_count": 2,
   "metadata": {},
   "outputs": [],
   "source": [
    "class ConvBlock(nn.Module):\n",
    "    def __init__(self, ni, no, ks, stride, bn = True, pad = None):\n",
    "        super().__init__()\n",
    "        if not pad: pad = ks//2//stride\n",
    "        self.conv = nn.Conv2d(ni, no, ks, stride, padding = pad, bias = False)\n",
    "        self.bn = nn.BatchNorm2d(no) if bn else None\n",
    "        self.relu = nn.LeakyReLU(0.2, inplace = True)\n",
    "    \n",
    "    def forward(self, x):\n",
    "        x = self.relu(self.conv(x))\n",
    "        return self.bn(x) if self.bn else x"
   ]
  },
  {
   "cell_type": "code",
   "execution_count": 3,
   "metadata": {},
   "outputs": [],
   "source": [
    "class Discriminator(nn.Module):\n",
    "    def __init__(self, isize, nc, ndf, n_extra_layers = 0):\n",
    "        super().__init__()\n",
    "        assert isize % 16 == 0, 'isize has to be a multiple of 16'\n",
    "        \n",
    "        self.initial = ConvBlock(nc, ndf, 4, 2, bn = False)\n",
    "        csize, cndf = isize/2, ndf\n",
    "        \n",
    "        self.extra = nn.Sequential(*[ConvBlock(cndf, cndf, 3, 1) for t in range(n_extra_layers)])\n",
    "        \n",
    "        bulk_layers = []\n",
    "        while csize > 4:\n",
    "            bulk_layers.append(ConvBlock(cndf, 2*cndf, 4, 2))\n",
    "            cndf *=2\n",
    "            csize /=2\n",
    "        self.bulk=nn.Sequential(*bulk_layers)\n",
    "        \n",
    "        self.final = nn.Conv2d(cndf, 1, 4, padding = 0, bias = False)\n",
    "    \n",
    "    def forward(self, x):\n",
    "        x = self.initial(x)\n",
    "        x = self.extra(x)\n",
    "        x = self.bulk(x)\n",
    "        return self.final(x).mean(0).view(1)"
   ]
  },
  {
   "cell_type": "code",
   "execution_count": 4,
   "metadata": {},
   "outputs": [],
   "source": [
    "class DeconvBlock(nn.Module):\n",
    "    def __init__(self, ni, no, ks, stride, pad):\n",
    "        super().__init__()\n",
    "        self.conv = nn.ConvTranspose2d(ni, no, ks, stride, padding=pad, bias=False)\n",
    "        self.bn = nn.BatchNorm2d(no)\n",
    "        self.relu = nn.ReLU(inplace = True)\n",
    "        \n",
    "    def forward(self, x):\n",
    "        x = self.relu(self.conv(x))\n",
    "        return self.bn(x)"
   ]
  },
  {
   "cell_type": "code",
   "execution_count": 5,
   "metadata": {},
   "outputs": [],
   "source": [
    "class Generator(nn.Module):\n",
    "    def __init__(self, isize, nz, nc, ngf, n_extra_layers=0):\n",
    "        super().__init__()\n",
    "        assert isize % 16 == 0, 'isize has to be a multiple of 16'\n",
    "        \n",
    "        cngf, tisize = ngf//2, 4\n",
    "        while tisize != isize // 2: cngf*=2; tisize*=2\n",
    "        layers = [DeconvBlock(nz, cngf, 4, 1, 0)]\n",
    "        \n",
    "        csize, cndf = 4, cngf\n",
    "        while csize < isize // 2:\n",
    "            layers.append(DeconvBlock(cngf, cngf//2, 4, 2, 1))\n",
    "            cngf //= 2; csize *= 2\n",
    "        \n",
    "        layers += [DeconvBlock(cngf, cngf, 3, 1, 1) for t in range(n_extra_layers)]\n",
    "        layers.append(nn.ConvTranspose2d(cngf, nc, 4, 2, 1, bias=False))\n",
    "        self.features = nn.Sequential(*layers)\n",
    "        \n",
    "    def forward(self, x): return torch.tanh(self.features(x))"
   ]
  },
  {
   "cell_type": "markdown",
   "metadata": {},
   "source": [
    "Define the sizes of image we'll use and the dimension of the noise."
   ]
  },
  {
   "cell_type": "code",
   "execution_count": 6,
   "metadata": {},
   "outputs": [],
   "source": [
    "img_size = 32\n",
    "noise_size = 100"
   ]
  },
  {
   "cell_type": "markdown",
   "metadata": {},
   "source": [
    "Transforms. The normalisation takes the mean and sd of the data not the desired mean and sd!! That caused me no end of pain working out!"
   ]
  },
  {
   "cell_type": "code",
   "execution_count": 7,
   "metadata": {},
   "outputs": [],
   "source": [
    "transform = transforms.Compose([transforms.Resize(img_size),\n",
    "                                transforms.CenterCrop(img_size),\n",
    "                                transforms.ToTensor(), \n",
    "                                transforms.Normalize([0.5]*3, [0.5]*3)])"
   ]
  },
  {
   "cell_type": "markdown",
   "metadata": {},
   "source": [
    "I put all of the data in a single subfolder called '0' to act as a dummy label for ImageFolder."
   ]
  },
  {
   "cell_type": "code",
   "execution_count": 8,
   "metadata": {},
   "outputs": [],
   "source": [
    "path = 'D:\\datasets\\CelebA'\n",
    "\n",
    "dataset = ImageFolder(path, transform)"
   ]
  },
  {
   "cell_type": "markdown",
   "metadata": {},
   "source": [
    "Send generator and discriminator to the GPU"
   ]
  },
  {
   "cell_type": "code",
   "execution_count": 9,
   "metadata": {},
   "outputs": [],
   "source": [
    "gen = Generator(img_size, noise_size, 3, 64, 1).cuda()\n",
    "dis = Discriminator(img_size, 3, 64, 1).cuda()"
   ]
  },
  {
   "cell_type": "markdown",
   "metadata": {},
   "source": [
    "Define the number of discriminator steps for each generator step and the optimisation hyperparameters. lam is the coefficient of the gradient penalty term"
   ]
  },
  {
   "cell_type": "code",
   "execution_count": 10,
   "metadata": {},
   "outputs": [],
   "source": [
    "lr = 0.0001\n",
    "betas = (0.5, 0.9)\n",
    "lam = 10"
   ]
  },
  {
   "cell_type": "markdown",
   "metadata": {},
   "source": [
    "We use the adam optimiser after the second paper referenced at the top."
   ]
  },
  {
   "cell_type": "code",
   "execution_count": 11,
   "metadata": {},
   "outputs": [],
   "source": [
    "dis_opt = optim.Adam(dis.parameters(), lr = lr, betas = betas)\n",
    "gen_opt = optim.Adam(gen.parameters(), lr = lr, betas = betas)"
   ]
  },
  {
   "cell_type": "markdown",
   "metadata": {},
   "source": [
    "Gradient penalty term"
   ]
  },
  {
   "cell_type": "code",
   "execution_count": 12,
   "metadata": {},
   "outputs": [],
   "source": [
    "def grad_pen(dis, real, fake):\n",
    "    alpha = torch.rand(real.size(0), 1).cuda()\n",
    "    alpha = alpha.expand(real.size(0), 3*img_size*img_size)\n",
    "    alpha = alpha.view(real.shape)\n",
    "    \n",
    "    interpolated_data = alpha * real.detach() + (1-alpha)*fake.detach()\n",
    "    interpolated_data.cuda().requires_grad_(True)\n",
    "    \n",
    "    dis_inter = dis(interpolated_data)\n",
    "    \n",
    "    grads = ag.grad(dis_inter, interpolated_data, \n",
    "                   grad_outputs = torch.ones(dis_inter.size()).cuda(),\n",
    "                   create_graph = True,\n",
    "                   retain_graph = True,\n",
    "                   only_inputs = True)[0]\n",
    "    \n",
    "    grads = grads.view(grads.size(0), -1)\n",
    "    \n",
    "    return ((grads.norm(2, dim = 1) - 1)**2).mean()"
   ]
  },
  {
   "cell_type": "markdown",
   "metadata": {},
   "source": [
    "We'll just store the losses in lists. This is probably not the most efficent way but training only takes ~3 hours and most of the action is happening in the GPU memory so it's not too bad."
   ]
  },
  {
   "cell_type": "code",
   "execution_count": 13,
   "metadata": {},
   "outputs": [],
   "source": [
    "dis_loss_signal = []\n",
    "gen_loss_signal = []"
   ]
  },
  {
   "cell_type": "markdown",
   "metadata": {},
   "source": [
    "Now the training loop. We sample from the data with replacement but I don't think this makes much difference."
   ]
  },
  {
   "cell_type": "code",
   "execution_count": 14,
   "metadata": {
    "scrolled": false
   },
   "outputs": [
    {
     "data": {
      "application/vnd.jupyter.widget-view+json": {
       "model_id": "eb1dd2f6bfda4928b07d3726cbe033e5",
       "version_major": 2,
       "version_minor": 0
      },
      "text/html": [
       "<p>Failed to display Jupyter Widget of type <code>HBox</code>.</p>\n",
       "<p>\n",
       "  If you're reading this message in the Jupyter Notebook or JupyterLab Notebook, it may mean\n",
       "  that the widgets JavaScript is still loading. If this message persists, it\n",
       "  likely means that the widgets JavaScript library is either not installed or\n",
       "  not enabled. See the <a href=\"https://ipywidgets.readthedocs.io/en/stable/user_install.html\">Jupyter\n",
       "  Widgets Documentation</a> for setup instructions.\n",
       "</p>\n",
       "<p>\n",
       "  If you're reading this message in another frontend (for example, a static\n",
       "  rendering on GitHub or <a href=\"https://nbviewer.jupyter.org/\">NBViewer</a>),\n",
       "  it may mean that your frontend doesn't currently support widgets.\n",
       "</p>\n"
      ],
      "text/plain": [
       "HBox(children=(IntProgress(value=0, max=20000), HTML(value='')))"
      ]
     },
     "metadata": {},
     "output_type": "display_data"
    },
    {
     "name": "stdout",
     "output_type": "stream",
     "text": [
      "\n"
     ]
    }
   ],
   "source": [
    "num_iters = 20000\n",
    "batch_size = 4\n",
    "critic_iters = 5\n",
    "\n",
    "for i in tqdm(range(num_iters)):\n",
    "    dataloader = torch.utils.data.DataLoader(dataset, batch_size = batch_size, shuffle = True)\n",
    "    for i, data in enumerate(dataloader):\n",
    "        if i == critic_iters: break\n",
    "        \n",
    "        real, _ = data\n",
    "        real = real.cuda()\n",
    "        \n",
    "        for param in dis.parameters():\n",
    "            param.requires_grad = True\n",
    "        \n",
    "        dis.zero_grad()\n",
    "        \n",
    "        noise = torch.randn(real.size(0), noise_size, 1, 1).cuda()\n",
    "        \n",
    "        ims_fake = gen(noise)\n",
    "        ims_fake.detach()\n",
    "        \n",
    "        dis_fake = dis(ims_fake)\n",
    "        dis_real = dis(real)\n",
    "        \n",
    "        real_loss = torch.mean(dis_real)\n",
    "        \n",
    "        fake_loss = torch.mean(dis_fake)\n",
    "        \n",
    "        grad_pen_loss = grad_pen(dis, real, ims_fake)*lam\n",
    "        \n",
    "        dis_loss = -real_loss+fake_loss+grad_pen_loss\n",
    "        dis_loss.backward()\n",
    "        \n",
    "        dis_opt.step()\n",
    "        \n",
    "        dis_loss_signal += [dis_loss.detach().cpu().numpy()]\n",
    "        \n",
    "#        for param in dis.parameters():\n",
    "#            param.data.clamp_(-0.01, 0.01)\n",
    "        \n",
    "        del real, noise, dis_fake, dis_real, dis_loss, ims_fake\n",
    "        \n",
    "    \n",
    "    for param in dis.parameters():\n",
    "        param.requires_grad = False\n",
    "    \n",
    "    gen.zero_grad()\n",
    "    \n",
    "    noise = torch.randn(batch_size, noise_size, 1, 1).cuda()\n",
    "    gen_loss = -torch.mean(dis(gen(noise)))\n",
    "    \n",
    "    gen_loss.backward()\n",
    "    gen_opt.step()\n",
    "    \n",
    "    gen_loss_signal += [gen_loss.detach().cpu().numpy()]\n",
    "    \n",
    "    del noise, gen_loss\n",
    "        \n",
    "#        if i % 10 == 0:\n",
    "#            print(\"minibatch: \", i)"
   ]
  },
  {
   "cell_type": "markdown",
   "metadata": {},
   "source": [
    "Discriminator Loss"
   ]
  },
  {
   "cell_type": "code",
   "execution_count": 15,
   "metadata": {},
   "outputs": [
    {
     "data": {
      "image/png": "[encoded data removed]",
      "text/plain": [
       "<matplotlib.figure.Figure at 0x2aac4a62c50>"
      ]
     },
     "metadata": {},
     "output_type": "display_data"
    }
   ],
   "source": [
    "plt.plot(dis_loss_signal)\n",
    "plt.show()"
   ]
  },
  {
   "cell_type": "markdown",
   "metadata": {},
   "source": [
    "Generator Loss"
   ]
  },
  {
   "cell_type": "code",
   "execution_count": 16,
   "metadata": {},
   "outputs": [
    {
     "data": {
      "image/png": "[encoded data removed]",
      "text/plain": [
       "<matplotlib.figure.Figure at 0x2aac4a62278>"
      ]
     },
     "metadata": {},
     "output_type": "display_data"
    }
   ],
   "source": [
    "plt.plot(gen_loss_signal)\n",
    "plt.show()"
   ]
  },
  {
   "cell_type": "markdown",
   "metadata": {},
   "source": [
    "Save/Load"
   ]
  },
  {
   "cell_type": "code",
   "execution_count": 17,
   "metadata": {},
   "outputs": [],
   "source": [
    "torch.save(gen.state_dict(), 'WGAN_gen_weights.pth')\n",
    "torch.save(dis.state_dict(), 'WGAN_dis_weights.pth')"
   ]
  },
  {
   "cell_type": "code",
   "execution_count": 18,
   "metadata": {},
   "outputs": [],
   "source": [
    "dis.load_state_dict(torch.load('WGAN_dis_weights.pth'))\n",
    "gen.load_state_dict(torch.load('WGAN_gen_weights.pth'))"
   ]
  },
  {
   "cell_type": "markdown",
   "metadata": {},
   "source": [
    "Some examples of generated images"
   ]
  },
  {
   "cell_type": "code",
   "execution_count": 23,
   "metadata": {},
   "outputs": [
    {
     "data": {
      "image/png": "[encoded data removed]",
      "text/plain": [
       "<matplotlib.figure.Figure at 0x2aa88326320>"
      ]
     },
     "metadata": {},
     "output_type": "display_data"
    }
   ],
   "source": [
    "noise = torch.randn(4, noise_size, 1, 1).cuda()\n",
    "\n",
    "fake_ims = gen(noise)\n",
    "grid = make_grid(0.5*fake_ims.data+0.5).cpu()\n",
    "\n",
    "plt.imshow(grid.permute(1, 2, 0).numpy())\n",
    "plt.show()"
   ]
  },
  {
   "cell_type": "markdown",
   "metadata": {},
   "source": [
    "Looks pretty good!"
   ]
  },
  {
   "cell_type": "markdown",
   "metadata": {},
   "source": [
    "And some examples of real images for comparison"
   ]
  },
  {
   "cell_type": "code",
   "execution_count": 20,
   "metadata": {},
   "outputs": [
    {
     "data": {
      "image/png": "[encoded data removed]",
      "text/plain": [
       "<matplotlib.figure.Figure at 0x2ab26bc3400>"
      ]
     },
     "metadata": {},
     "output_type": "display_data"
    }
   ],
   "source": [
    "real = next(iter(dataloader))[0][:4]\n",
    "\n",
    "grid = make_grid(0.5*real.data+0.5).cpu()\n",
    "\n",
    "plt.imshow(grid.permute(1, 2, 0).numpy())\n",
    "plt.show()"
   ]
  }
 ],
 "metadata": {
  "kernelspec": {
   "display_name": "Python 3",
   "language": "python",
   "name": "python3"
  },
  "language_info": {
   "codemirror_mode": {
    "name": "ipython",
    "version": 3
   },
   "file_extension": ".py",
   "mimetype": "text/x-python",
   "name": "python",
   "nbconvert_exporter": "python",
   "pygments_lexer": "ipython3",
   "version": "3.6.4"
  }
 },
 "nbformat": 4,
 "nbformat_minor": 2
}
